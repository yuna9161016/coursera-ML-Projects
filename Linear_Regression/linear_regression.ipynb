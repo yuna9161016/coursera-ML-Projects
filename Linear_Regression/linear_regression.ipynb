{
 "cells": [
  {
   "cell_type": "markdown",
   "metadata": {},
   "source": [
    "## Exercise: Blood Pressure Prediction Model\n",
    "\n",
    "Using a patient’s age and systolic blood pressure (SBP), create a linear regression model to predict the blood pressure for other patients.\n",
    "\n",
    "The following data represents the age and systolic blood pressure of two patients:\n",
    "\n",
    "| Age (years)     | Systolic Blood Pressure (mmHg) |\n",
    "| -------------------| ------------------------ |\n",
    "| 30               | 120                      |\n",
    "| 50               | 140                      |\n",
    "\n",
    "**Objective:**\n",
    "\n",
    "- Create a linear regression model based on the given data.\n",
    "- Predict the systolic blood pressure of a patient who is 40 years old.\n",
    "\n",
    "**Hints:**\n",
    "\n",
    "The model equation is:\n",
    "\n",
    "f_{w,b}(x^(i)) = wx^(i) + b\n",
    "Where:\n",
    "\n",
    "- x is the input feature (age),\n",
    "- y is the output (systolic blood pressure).\n",
    "\n",
    "Calculate:\n",
    "- w (slope) and b (intercept) using the given data.\n",
    "- Use the calculated model to predict the blood pressure for the new input (age = 40).\n"
   ]
  },
  {
   "cell_type": "code",
   "execution_count": 1,
   "metadata": {},
   "outputs": [],
   "source": [
    "import numpy as np\n",
    "import matplotlib.pyplot as plt\n",
    "plt.style.use('./deeplearning.mplstyle')"
   ]
  },
  {
   "cell_type": "code",
   "execution_count": 2,
   "metadata": {},
   "outputs": [
    {
     "name": "stdout",
     "output_type": "stream",
     "text": [
      "x_train = [30. 50.]\n",
      "y_train = [120. 140.]\n"
     ]
    }
   ],
   "source": [
    "# x_train is the input variable (size in age)\n",
    "# y_train is the target (price in systolic blood pressure)\n",
    "x_train = np.array([30.0, 50.0])\n",
    "y_train = np.array([120.0, 140.0])\n",
    "print(f\"x_train = {x_train}\")\n",
    "print(f\"y_train = {y_train}\")"
   ]
  },
  {
   "cell_type": "code",
   "execution_count": 3,
   "metadata": {},
   "outputs": [],
   "source": [
    "def compute_model_output(x, w, b):\n",
    "    \"\"\"\n",
    "    Computes the prediction of a linear model\n",
    "    Args:\n",
    "      x (ndarray (m,)): Data, m examples \n",
    "      w,b (scalar)    : model parameters  \n",
    "    Returns\n",
    "      f_wb (ndarray (m,)): model prediction\n",
    "    \"\"\"\n",
    "    m = x.shape[0]\n",
    "    f_wb = np.zeros(m)\n",
    "    for i in range(m):\n",
    "        f_wb[i] = w * x[i] + b\n",
    "        \n",
    "    return f_wb"
   ]
  },
  {
   "cell_type": "code",
   "execution_count": 4,
   "metadata": {},
   "outputs": [
    {
     "name": "stdout",
     "output_type": "stream",
     "text": [
      "130 mmHg\n"
     ]
    }
   ],
   "source": [
    "w = 1\n",
    "b = 90\n",
    "x_i = 40\n",
    "sbp_age40 = w * x_i + b    \n",
    "\n",
    "print(f\"{sbp_age40:.0f} mmHg\")"
   ]
  },
  {
   "cell_type": "code",
   "execution_count": 5,
   "metadata": {},
   "outputs": [
    {
     "data": {
      "image/png": "[encoded data removed]",
      "text/plain": [
       "<Figure size 432x288 with 1 Axes>"
      ]
     },
     "metadata": {},
     "output_type": "display_data"
    }
   ],
   "source": [
    "tmp_f_wb = compute_model_output(x_train, w, b,)\n",
    "\n",
    "# Plot our model prediction\n",
    "plt.plot(x_train, tmp_f_wb, c='b',label='Our Prediction')\n",
    "\n",
    "# Plot the data points\n",
    "plt.scatter(x_train, y_train, marker='x', c='r',label='Actual Values')\n",
    "\n",
    "# Set the title\n",
    "plt.title(\"Systolic Blood Pressure (SBP)\")\n",
    "# Set the y-axis label\n",
    "plt.ylabel('SBP')\n",
    "# Set the x-axis label\n",
    "plt.xlabel('Age')\n",
    "plt.legend()\n",
    "plt.show()"
   ]
  },
  {
   "cell_type": "code",
   "execution_count": null,
   "metadata": {},
   "outputs": [],
   "source": []
  }
 ],
 "metadata": {
  "kernelspec": {
   "display_name": "Python 3",
   "language": "python",
   "name": "python3"
  },
  "language_info": {
   "codemirror_mode": {
    "name": "ipython",
    "version": 3
   },
   "file_extension": ".py",
   "mimetype": "text/x-python",
   "name": "python",
   "nbconvert_exporter": "python",
   "pygments_lexer": "ipython3",
   "version": "3.7.6"
  }
 },
 "nbformat": 4,
 "nbformat_minor": 4
}
